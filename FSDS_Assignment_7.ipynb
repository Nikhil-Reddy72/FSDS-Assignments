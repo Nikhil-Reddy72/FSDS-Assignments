{
 "cells": [
  {
   "cell_type": "markdown",
   "id": "3d88dfb1",
   "metadata": {},
   "source": [
    "# Q1. What is the name of the feature responsible for generating Regex objects?\n",
    "\n",
    "## Answer:\n",
    "\n",
    "The re.compile() function returns Regex objects."
   ]
  },
  {
   "cell_type": "markdown",
   "id": "e1598693",
   "metadata": {},
   "source": [
    "# Q2. Why do raw strings often appear in Regex objects?\n",
    "\n",
    "## Answer:\n",
    "\n",
    "Raw string are used so that blackslashes do not have to be escaped."
   ]
  },
  {
   "cell_type": "markdown",
   "id": "d08bf0b8",
   "metadata": {},
   "source": [
    "# Q3. What is the return value of the search() method?\n",
    "\n",
    "## Answer:\n",
    "\n",
    "The search() methods returns match objects."
   ]
  },
  {
   "cell_type": "markdown",
   "id": "2cd7ae70",
   "metadata": {},
   "source": [
    "# Q4. From a Match item, how do you get the actual strings that match the pattern?\n",
    "\n",
    "## Answer:\n",
    "\n",
    "The group() method returns string of the matched text"
   ]
  },
  {
   "cell_type": "markdown",
   "id": "b8bdca72",
   "metadata": {},
   "source": [
    "# Q5. In the regex which created from the r'(\\d\\d\\d)-(\\d\\d\\d-\\d\\d\\d\\d)', what does group zero cover? Group 2? Group 1?\n",
    "\n",
    "## Answer:\n",
    "\n",
    "group 0 is the entire match, group 1 covers the first set of parentheses and group 2 covers the second set of parentheses "
   ]
  },
  {
   "cell_type": "markdown",
   "id": "15b21925",
   "metadata": {},
   "source": [
    "# Q6. In standard expression syntax, parentheses and intervals have distinct meanings. How can you tell a regex that you want it to fit real parentheses and periods?\n",
    "\n",
    "## Answer:\n",
    "\n",
    "Periods and parentheses can be escaped with a blackslash: \\.,\\(, and \\),"
   ]
  },
  {
   "cell_type": "markdown",
   "id": "7882559a",
   "metadata": {},
   "source": [
    "# Q7. The findall() method returns a string list or a list of string tuples. What causes it to return one of the two options?\n",
    "\n",
    "## Answer:\n",
    "\n",
    "If the regex has no groups, a list of sting is returned. i the regex has group, a list of tuples oa strings is returned"
   ]
  },
  {
   "cell_type": "markdown",
   "id": "f3d58e87",
   "metadata": {},
   "source": [
    "# Q8. In standard expressions, what does the | character mean?\n",
    "\n",
    "## Answer:\n",
    "\n",
    "The | character signifies matching \"either\", or between two groups."
   ]
  },
  {
   "cell_type": "markdown",
   "id": "d039c7f3",
   "metadata": {},
   "source": [
    "# Q9. In regular expressions, what does the character stand for?\n",
    "\n",
    "## Answer:\n",
    "\n",
    "The ? character can either mean \"match zero or one of the preceding group\" or be used to signify nongreedy macthing."
   ]
  },
  {
   "cell_type": "markdown",
   "id": "35a29a51",
   "metadata": {},
   "source": [
    "# Q10.In regular expressions, what is the difference between the + and * characters?\n",
    "\n",
    "## Anwer:\n",
    "\n",
    "The + matches one or more. The * matches zero or more"
   ]
  },
  {
   "cell_type": "markdown",
   "id": "22ef3c5a",
   "metadata": {},
   "source": [
    "# Q11. What is the difference between {4} and {4,5} in regular expression?\n",
    "\n",
    "## Answer:\n",
    "\n",
    "The {3} matches exactly three instances of the preceding group. the {3,5} matches between three and five instances."
   ]
  },
  {
   "cell_type": "markdown",
   "id": "9980f2f0",
   "metadata": {},
   "source": [
    "# Q12. What do you mean by the \\d, \\w, and \\s shorthand character classes signify in regular expressions?\n",
    "\n",
    "## Answer:\n",
    "\n",
    "\n",
    "The \\D, \\W and \\S shorthand character classes match a single digit, word or space character."
   ]
  },
  {
   "cell_type": "markdown",
   "id": "88a3a0f4",
   "metadata": {},
   "source": [
    "# Q13. What do means by \\D, \\W, and \\S shorthand character classes signify in regular expressions?\n",
    "\n",
    "## Answer:\n",
    "\n",
    "The \\D, \\W and \\S shorthand character classes match a single character tha is not a digit, word, or space character."
   ]
  },
  {
   "cell_type": "markdown",
   "id": "a1f5245b",
   "metadata": {},
   "source": [
    "# Q14. What is the difference between .*? and .*?\n",
    "\n",
    "## Answer:\n",
    "\n",
    "Passing re.I or re.IGNORECASE as the second argument to re.compile() will make the matching case insensitive."
   ]
  },
  {
   "cell_type": "markdown",
   "id": "72b7f6b1",
   "metadata": {},
   "source": [
    "# Q15. What is the syntax for matching both numbers and lowercase letters with a character class?\n",
    "\n",
    "## Answer:\n",
    "\n",
    "The . character normally matches any character except the newline character. If re.DOTALL is passed as the second argument to re.compile(), then the dot will also match newline character."
   ]
  },
  {
   "cell_type": "markdown",
   "id": "0e9d8d2f",
   "metadata": {},
   "source": [
    "# Q16. What is the procedure for making a normal expression in regax case insensitive?\n",
    "\n",
    "## Answer:\n",
    "\n",
    "The .*perform a greedy match, and the.*? performs a nongreedy match."
   ]
  },
  {
   "cell_type": "markdown",
   "id": "11843c3b",
   "metadata": {},
   "source": [
    "# Q17. What does the . character normally match? What does it match if re.DOTALL is passed as 2nd argument in re.compile()?\n",
    "\n",
    "## Answer:\n",
    "\n",
    "Either [0 - 9a - z] or [a - z0 - 9]"
   ]
  },
  {
   "cell_type": "markdown",
   "id": "6ca08205",
   "metadata": {},
   "source": [
    "# Q18. If numReg = re.compile(r'\\d+'), what will numRegex.sub('X', '11 drummers, 10 pipers, five rings, 4 hen') return?\n",
    "\n",
    "\n",
    "## Ansswer:\n",
    "\n",
    "'X drummers, X pipers, five rings, x hens '."
   ]
  },
  {
   "cell_type": "markdown",
   "id": "a2f1f6c8",
   "metadata": {},
   "source": [
    "# Q19. What does passing re.VERBOSE as the 2nd argument to re.compile() allow to do?\n",
    "\n",
    "## Answer:\n",
    "\n",
    "The re.VERBOSE argument allows you to add whitespace and comments to the string passed to re.compile()."
   ]
  },
  {
   "cell_type": "markdown",
   "id": "43465ce6",
   "metadata": {},
   "source": [
    "# Q20. How would you write a regex that match a number with comma for every three digits? It must match the given following:\n",
    "## '42'\n",
    "## '1,234'\n",
    "## '6,368,745'\n",
    "## but not the following:\n",
    "## '12,34,567' (which has only two digits between the commas)\n",
    "## '1234' (which lacks commas)\n",
    "\n",
    "\n",
    "# Answer:\n",
    "\n",
    "### re.compile(r'^\\d{1,3}(,\\d{3})*$') will create this regex, but other regex string can produce a similar regular expression."
   ]
  },
  {
   "cell_type": "markdown",
   "id": "9beb46ee",
   "metadata": {},
   "source": [
    "# Q21. How would you write a regex that matches the full name of someone whose last name is Watanabe? You can assume that the first name that comes before it will always be one word that begins with a capital letter. The regex must match the following:\n",
    "## 'Haruto Watanabe';\n",
    "## 'Alice Watanabe';\n",
    "## 'RoboCop Watanabe';\n",
    "## but not the following:\n",
    "## 'haruto Watanabe' (where the first name is not capitalized)\n",
    "## 'Mr. Watanabe' (where the preceding word has a nonletter character)\n",
    "## 'Watanabe' (which has no first name)\n",
    "## 'Haruto watanabe' (where Watanabe is not capitalized)\n",
    "\n",
    "\n",
    "# Answer:\n",
    "\n",
    "### re.compile(r'[A-Z][a-z]*\\sNakamoto')."
   ]
  },
  {
   "cell_type": "markdown",
   "id": "eebb62fd",
   "metadata": {},
   "source": [
    "# Q22. How would you write a regex that matches a sentence where the first word is either Alice, Bob, or Carol; the second word is either eats, pets, or throws; the third word is apples, cats, or baseballs; and the sentence ends with a period? This regex should be case-insensitive. It must match the following:\n",
    "## 'Alice eats apples.'\n",
    "## 'Bob pets cats.'\n",
    "## 'Carol throws baseballs.'\n",
    "## 'Alice throws Apples.'\n",
    "## 'BOB EATS CATS.'\n",
    "## but not the following:\n",
    "## 'RoboCop eats apples.'\n",
    "## 'ALICE THROWS FOOTBALLS.'\n",
    "## 'Carol eats 7 cats.'\n",
    "\n",
    "# Answer:\n",
    "\n",
    "### re.compile(r'(Alice|Bob|Carol)\\s(eats|pets|throws)\\s(apples|cats|baseballs)\\.', re.IGNORECASE)"
   ]
  },
  {
   "cell_type": "code",
   "execution_count": null,
   "id": "a757fc0e",
   "metadata": {},
   "outputs": [],
   "source": []
  }
 ],
 "metadata": {
  "kernelspec": {
   "display_name": "Python 3 (ipykernel)",
   "language": "python",
   "name": "python3"
  },
  "language_info": {
   "codemirror_mode": {
    "name": "ipython",
    "version": 3
   },
   "file_extension": ".py",
   "mimetype": "text/x-python",
   "name": "python",
   "nbconvert_exporter": "python",
   "pygments_lexer": "ipython3",
   "version": "3.9.13"
  }
 },
 "nbformat": 4,
 "nbformat_minor": 5
}
