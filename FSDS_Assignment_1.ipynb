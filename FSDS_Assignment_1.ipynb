{
  "nbformat": 4,
  "nbformat_minor": 0,
  "metadata": {
    "colab": {
      "provenance": []
    },
    "kernelspec": {
      "name": "python3",
      "display_name": "Python 3"
    },
    "language_info": {
      "name": "python"
    }
  },
  "cells": [
    {
      "cell_type": "markdown",
      "source": [
        "Q 1.\n",
        "\n",
        "In the below elements which of them are values or an expression? eg:- values can be integer or string and expressions will be mathematical operators. *,hello&#39;-87.8,-,/,+,6\n",
        "----------------\n"
      ],
      "metadata": {
        "id": "XdSoWwacsXZT"
      }
    },
    {
      "cell_type": "markdown",
      "source": [
        "Answer 1 :\n",
        "--------\n",
        "'hello',-87.8 and 6 are the values\n",
        "\n",
        "and\n",
        "\n",
        "*,-,/,+ this are the expression"
      ],
      "metadata": {
        "id": "15K-acG6s5wL"
      }
    },
    {
      "cell_type": "markdown",
      "source": [
        "Q 2. \n",
        "\n",
        "What is the difference between string and variable?\n",
        "------------"
      ],
      "metadata": {
        "id": "X6aHh3pntq3k"
      }
    },
    {
      "cell_type": "markdown",
      "source": [
        "Answer:\n",
        "------\n",
        "String:\n",
        "\n",
        "it is a group of characters and characters are written in between double(\" \") or single(' ') qutoes\n",
        "\n",
        "Example: name = \"Nikhil\" \n",
        "\n",
        "Now Nikhil is a string value\n",
        "\n",
        "variable:\n",
        "\n",
        "variable allways starts with alphabets and it should not contain any special characters like \" !@#$%^&*() \"\n",
        "\n",
        "The certain vlaues which assigning to certain object like a,b,name or x (variables)\n",
        "\n",
        "Example: x = 9\n",
        "\n",
        "npw x is a variable"
      ],
      "metadata": {
        "id": "32pmMAb2t4Du"
      }
    },
    {
      "cell_type": "code",
      "execution_count": 4,
      "metadata": {
        "colab": {
          "base_uri": "https://localhost:8080/"
        },
        "id": "ntF1UyMWsSdi",
        "outputId": "ba57028b-8a47-4e10-b38c-943e45d7e7c3"
      },
      "outputs": [
        {
          "output_type": "stream",
          "name": "stdout",
          "text": [
            "Nikhil 9\n",
            "<class 'str'>\n"
          ]
        }
      ],
      "source": [
        "name = \"Nikhil\"\n",
        "x =9\n",
        "print(name, x)\n",
        "print(type(name))"
      ]
    },
    {
      "cell_type": "markdown",
      "source": [
        "Q3.\n",
        "\n",
        "Describe three different data types.\n",
        "------------"
      ],
      "metadata": {
        "id": "A4NjKZMoH8FM"
      }
    },
    {
      "cell_type": "markdown",
      "source": [
        "Answer:\n",
        "----\n",
        "\n",
        "The three different data types Are:\n",
        "\n",
        "1.string, 2.integer, 3.boolean\n",
        "\n",
        "1.string:\n",
        "\n",
        "which we are given in between single and double qutoes are called string\n",
        "\n",
        "Example: x = \"Nikhil\"\n",
        "\n",
        "---\n",
        "2.integers:\n",
        "\n",
        "the only numbers 0 to infinity are the the integers and if it contain decimal points it comes under float data type\n",
        "\n",
        "Example:\n",
        "\n",
        "x = 29,\n",
        "\n",
        "y = 0.5\n",
        "\n",
        "---\n",
        "3.Boolean:\n",
        "\n",
        "boolean  it is a type which gives  True or False\n",
        "\n",
        "Example : one = True\n"
      ],
      "metadata": {
        "id": "5pffrSsazzVM"
      }
    },
    {
      "cell_type": "code",
      "source": [
        "x = \"Nikhil\"\n",
        "print(type(x))"
      ],
      "metadata": {
        "colab": {
          "base_uri": "https://localhost:8080/"
        },
        "id": "d5iF-nnV40FO",
        "outputId": "28d689eb-9da6-4d55-ddf1-245f0d3b0ca0"
      },
      "execution_count": 8,
      "outputs": [
        {
          "output_type": "stream",
          "name": "stdout",
          "text": [
            "<class 'str'>\n"
          ]
        }
      ]
    },
    {
      "cell_type": "code",
      "source": [
        "x = 29\n",
        "print(type(x))\n",
        "y = 0.5\n",
        "print(type(y))"
      ],
      "metadata": {
        "colab": {
          "base_uri": "https://localhost:8080/"
        },
        "id": "W3VgWWPMzvh0",
        "outputId": "0bd38c61-62c4-418a-a159-3160723f8fd3"
      },
      "execution_count": 7,
      "outputs": [
        {
          "output_type": "stream",
          "name": "stdout",
          "text": [
            "<class 'int'>\n",
            "<class 'float'>\n"
          ]
        }
      ]
    },
    {
      "cell_type": "code",
      "source": [
        "one = True\n",
        "print(type(one))"
      ],
      "metadata": {
        "colab": {
          "base_uri": "https://localhost:8080/"
        },
        "id": "K5S3lb4A49c1",
        "outputId": "a24d357c-5a82-4999-a256-521cd66c17cc"
      },
      "execution_count": 9,
      "outputs": [
        {
          "output_type": "stream",
          "name": "stdout",
          "text": [
            "<class 'bool'>\n"
          ]
        }
      ]
    },
    {
      "cell_type": "markdown",
      "source": [
        "Q4. \n",
        "\n",
        "What is an expression made up of? What do all expressions do?\n",
        "-----------"
      ],
      "metadata": {
        "id": "ZYoar4ilDQ7k"
      }
    },
    {
      "cell_type": "markdown",
      "source": [
        "Answer:\n",
        "\n",
        "An Experession is made up of operators,operands and values\n",
        "\n",
        "\n",
        "All the Expression will represents the values\n",
        "\n",
        "For example string is also an Expression which returns the 'string value'\n"
      ],
      "metadata": {
        "id": "-yZ4IrIfDX7O"
      }
    },
    {
      "cell_type": "markdown",
      "source": [
        "# Q5.\n",
        "This assignment statements, like spam = 10. What is the difference between and expression and a statement?\n",
        "--------------------"
      ],
      "metadata": {
        "id": "qwJxWU7IJTMf"
      }
    },
    {
      "cell_type": "markdown",
      "source": [
        "# Answer:\n",
        "A statement is a action. \n",
        "For Example print is statement which performs the certain action for some given statement\n",
        "\n",
        "An Experessions are operators,operands and values\n",
        "\n",
        "All the Expression will represents the values\n",
        "\n",
        "\n",
        "This assignment statements, like spam = 10. \n",
        "\n",
        "spam is variable and = is a operand and 10 is assigned integer value\n",
        "\n",
        "now when we print the value of spam. that used print is a statement which give the spam value is 10"
      ],
      "metadata": {
        "id": "o4XjBwwcKKDP"
      }
    },
    {
      "cell_type": "code",
      "source": [
        "spam = 10\n",
        "print(spam)"
      ],
      "metadata": {
        "colab": {
          "base_uri": "https://localhost:8080/"
        },
        "id": "8btOBZmJ5Dsb",
        "outputId": "23c1ef5c-d651-456f-f531-8a6ba0f4d76d"
      },
      "execution_count": 10,
      "outputs": [
        {
          "output_type": "stream",
          "name": "stdout",
          "text": [
            "10\n"
          ]
        }
      ]
    },
    {
      "cell_type": "markdown",
      "source": [
        "#Q6. After running the following code, what does the variable bacon contain?\n",
        "#bacon = 22\n",
        "#bacon + 1"
      ],
      "metadata": {
        "id": "EsPEu3apUYtE"
      }
    },
    {
      "cell_type": "markdown",
      "source": [
        "#Answer"
      ],
      "metadata": {
        "id": "uqDlnATWW2uN"
      }
    },
    {
      "cell_type": "code",
      "source": [
        "bacon = 22\n",
        "bacon"
      ],
      "metadata": {
        "colab": {
          "base_uri": "https://localhost:8080/"
        },
        "id": "jpqD0e6QOMDc",
        "outputId": "75d1a1c3-579b-4ff8-a9c4-75fb687a1a52"
      },
      "execution_count": 11,
      "outputs": [
        {
          "output_type": "execute_result",
          "data": {
            "text/plain": [
              "22"
            ]
          },
          "metadata": {},
          "execution_count": 11
        }
      ]
    },
    {
      "cell_type": "code",
      "source": [
        "bacon + 1\n",
        "# after running the bacon = 22 and bacon + 1 we get an output as 23"
      ],
      "metadata": {
        "colab": {
          "base_uri": "https://localhost:8080/"
        },
        "id": "-Bv0fNLrUu8h",
        "outputId": "8d27020e-dd87-46dd-bc6e-20e9d8fcdf1d"
      },
      "execution_count": 14,
      "outputs": [
        {
          "output_type": "execute_result",
          "data": {
            "text/plain": [
              "23"
            ]
          },
          "metadata": {},
          "execution_count": 14
        }
      ]
    },
    {
      "cell_type": "markdown",
      "source": [
        "#Q7. What should the values of the following two terms be?\n",
        "#'spam' + 'spamspam'\n",
        "#'spam' * 3"
      ],
      "metadata": {
        "id": "MYEfFTaTVLyx"
      }
    },
    {
      "cell_type": "markdown",
      "source": [
        "#Answer"
      ],
      "metadata": {
        "id": "z18B3Bp0W8OV"
      }
    },
    {
      "cell_type": "code",
      "source": [
        "'spam' + 'spamspam'"
      ],
      "metadata": {
        "colab": {
          "base_uri": "https://localhost:8080/",
          "height": 35
        },
        "id": "do5soHPhUy6D",
        "outputId": "63043e93-ac4e-46ed-fe54-1d7cd1de2e54"
      },
      "execution_count": 16,
      "outputs": [
        {
          "output_type": "execute_result",
          "data": {
            "text/plain": [
              "'spamspamspam'"
            ],
            "application/vnd.google.colaboratory.intrinsic+json": {
              "type": "string"
            }
          },
          "metadata": {},
          "execution_count": 16
        }
      ]
    },
    {
      "cell_type": "code",
      "source": [
        "'spam' * 3"
      ],
      "metadata": {
        "colab": {
          "base_uri": "https://localhost:8080/",
          "height": 35
        },
        "id": "higCISWjWYzK",
        "outputId": "63d12688-b20f-42a0-f8fe-8cd65a61ec5f"
      },
      "execution_count": 17,
      "outputs": [
        {
          "output_type": "execute_result",
          "data": {
            "text/plain": [
              "'spamspamspam'"
            ],
            "application/vnd.google.colaboratory.intrinsic+json": {
              "type": "string"
            }
          },
          "metadata": {},
          "execution_count": 17
        }
      ]
    },
    {
      "cell_type": "markdown",
      "source": [
        "#8. Why is eggs a valid variable name while 100 is invalid?"
      ],
      "metadata": {
        "id": "N-RcXLOTWnbE"
      }
    },
    {
      "cell_type": "markdown",
      "source": [
        "# Answer\n",
        "\n",
        "The eggs is valid variable name while 100 is invalid because variable allways starts with alphabets and it should not contain any Numeric value at starting and special characters like \" !@#$%^&*() \""
      ],
      "metadata": {
        "id": "b1IbORPdWrYW"
      }
    },
    {
      "cell_type": "code",
      "source": [
        "eggs = 100\n",
        "eggs"
      ],
      "metadata": {
        "colab": {
          "base_uri": "https://localhost:8080/"
        },
        "id": "XiQPwOkMWc16",
        "outputId": "8089d347-68d7-4b20-f8eb-e1a0fdf3d215"
      },
      "execution_count": 19,
      "outputs": [
        {
          "output_type": "execute_result",
          "data": {
            "text/plain": [
              "100"
            ]
          },
          "metadata": {},
          "execution_count": 19
        }
      ]
    },
    {
      "cell_type": "code",
      "source": [
        "100 = eggs"
      ],
      "metadata": {
        "colab": {
          "base_uri": "https://localhost:8080/",
          "height": 131
        },
        "id": "Zvm_zCPNXoPl",
        "outputId": "c2cbe6e1-277b-49c0-ed75-c5441b2dc965"
      },
      "execution_count": 20,
      "outputs": [
        {
          "output_type": "error",
          "ename": "SyntaxError",
          "evalue": "ignored",
          "traceback": [
            "\u001b[0;36m  File \u001b[0;32m\"<ipython-input-20-235f62072e11>\"\u001b[0;36m, line \u001b[0;32m1\u001b[0m\n\u001b[0;31m    100 = eggs\u001b[0m\n\u001b[0m              ^\u001b[0m\n\u001b[0;31mSyntaxError\u001b[0m\u001b[0;31m:\u001b[0m can't assign to literal\n"
          ]
        }
      ]
    },
    {
      "cell_type": "markdown",
      "source": [
        "#Q9. What three functions can be used to get the integer, floating-point number, or string version of a value?"
      ],
      "metadata": {
        "id": "b57AHnz0X0pW"
      }
    },
    {
      "cell_type": "markdown",
      "source": [
        "#Answer\n",
        "\n",
        "int() for integer,\n",
        "\n",
        "float() for floating-point number,\n",
        "\n",
        "str() for string \n",
        "\n",
        "this three functions can be used to get the integer, floating-point number, or string version of a value"
      ],
      "metadata": {
        "id": "TT4Li2UxX6is"
      }
    },
    {
      "cell_type": "markdown",
      "source": [
        "#10. Why does this expression cause an error? How can you fix it?\n",
        "#'I have eaten'  + 99 +  'burritos'"
      ],
      "metadata": {
        "id": "fkueoTAGZ0oG"
      }
    },
    {
      "cell_type": "markdown",
      "source": [
        "#Answer:\n",
        "\n",
        "This expression causes an error because we can not add a string value to integer.\n",
        "\n",
        "I can fix it by converting the integer value into string value "
      ],
      "metadata": {
        "id": "BesE2_zFaV_6"
      }
    },
    {
      "cell_type": "code",
      "source": [
        "'I have eaten' + 99 + 'burritos'"
      ],
      "metadata": {
        "colab": {
          "base_uri": "https://localhost:8080/",
          "height": 166
        },
        "id": "kqHYGtnhXujq",
        "outputId": "4c41cc26-d27a-4c22-fa17-544d2a1085a8"
      },
      "execution_count": 21,
      "outputs": [
        {
          "output_type": "error",
          "ename": "TypeError",
          "evalue": "ignored",
          "traceback": [
            "\u001b[0;31m---------------------------------------------------------------------------\u001b[0m",
            "\u001b[0;31mTypeError\u001b[0m                                 Traceback (most recent call last)",
            "\u001b[0;32m<ipython-input-21-9230c793b9b6>\u001b[0m in \u001b[0;36m<module>\u001b[0;34m\u001b[0m\n\u001b[0;32m----> 1\u001b[0;31m \u001b[0;34m'I have eaten'\u001b[0m \u001b[0;34m+\u001b[0m \u001b[0;36m99\u001b[0m \u001b[0;34m+\u001b[0m \u001b[0;34m'burritos'\u001b[0m\u001b[0;34m\u001b[0m\u001b[0;34m\u001b[0m\u001b[0m\n\u001b[0m",
            "\u001b[0;31mTypeError\u001b[0m: can only concatenate str (not \"int\") to str"
          ]
        }
      ]
    },
    {
      "cell_type": "code",
      "source": [
        "'I have eaten' + ' 99 ' + 'burritos'"
      ],
      "metadata": {
        "colab": {
          "base_uri": "https://localhost:8080/",
          "height": 35
        },
        "id": "zLeG-ByfbQ2s",
        "outputId": "e579aab2-6ac2-4455-ee99-288335cf4ce4"
      },
      "execution_count": 23,
      "outputs": [
        {
          "output_type": "execute_result",
          "data": {
            "text/plain": [
              "'I have eaten 99 burritos'"
            ],
            "application/vnd.google.colaboratory.intrinsic+json": {
              "type": "string"
            }
          },
          "metadata": {},
          "execution_count": 23
        }
      ]
    }
  ]
}