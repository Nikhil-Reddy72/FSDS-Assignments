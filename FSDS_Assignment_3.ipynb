{
 "cells": [
  {
   "cell_type": "markdown",
   "id": "868ebb51",
   "metadata": {},
   "source": [
    "# 1Q. Why are functions advantageous to have in your programs?"
   ]
  },
  {
   "cell_type": "markdown",
   "id": "e7274b23",
   "metadata": {},
   "source": [
    "# Answer:\n",
    "\n",
    "The function reduce the need of duplicate code. This makes programs shoter and easier to read."
   ]
  },
  {
   "cell_type": "markdown",
   "id": "c6924456",
   "metadata": {},
   "source": [
    "# 2Q. When does the code in a function run: when it's specified or when it's called?"
   ]
  },
  {
   "cell_type": "markdown",
   "id": "8da012f3",
   "metadata": {},
   "source": [
    "# Answer :\n",
    "\n",
    "THe code in a function executes when the function is called, not when the function is defined."
   ]
  },
  {
   "cell_type": "markdown",
   "id": "f818318a",
   "metadata": {},
   "source": [
    "# 3Q. What statement creates a function?"
   ]
  },
  {
   "cell_type": "markdown",
   "id": "264072bb",
   "metadata": {},
   "source": [
    "# Answer :\n",
    "\n",
    "The def statement defines a function or creates the function."
   ]
  },
  {
   "cell_type": "markdown",
   "id": "747f22ac",
   "metadata": {},
   "source": [
    "# 4Q. What is the difference between a function and a function call?"
   ]
  },
  {
   "cell_type": "markdown",
   "id": "0ee9b283",
   "metadata": {},
   "source": [
    "# Answer:\n",
    "\n",
    "1.A def function is to creat a funtion and a set of code is written in the def class.\n",
    "\n",
    "2.A funtion call is executes the program which was written in def function and returns the value."
   ]
  },
  {
   "cell_type": "markdown",
   "id": "e876c742",
   "metadata": {},
   "source": [
    "# 5Q. How many global scopes are there in a Python program? How many local scopes?"
   ]
  },
  {
   "cell_type": "markdown",
   "id": "ca7d7f4e",
   "metadata": {},
   "source": [
    "# Answer: \n",
    "\n",
    "There is only one global scope and a local scope is created whenever a function is called."
   ]
  },
  {
   "cell_type": "markdown",
   "id": "181d95b3",
   "metadata": {},
   "source": [
    "# 6Q. What happens to variables in a local scope when the function call returns?"
   ]
  },
  {
   "cell_type": "markdown",
   "id": "94e88de7",
   "metadata": {},
   "source": [
    "# Answer :\n",
    "\n",
    "When the function returns the local scope is destroyed and all the variables in it will not remembered."
   ]
  },
  {
   "cell_type": "markdown",
   "id": "62142bfd",
   "metadata": {},
   "source": [
    "# 7Q. What is the concept of a return value? Is it possible to have a return value in an expression?"
   ]
  },
  {
   "cell_type": "markdown",
   "id": "f9913482",
   "metadata": {},
   "source": [
    "# Answer:\n",
    "\n",
    "A return value is a value that a function call evaluates like any value and a return value can be uesed as part of expression."
   ]
  },
  {
   "cell_type": "markdown",
   "id": "956bbd0b",
   "metadata": {},
   "source": [
    "# 8Q. If a function does not have a return statement, what is the return value of a call to that function?"
   ]
  },
  {
   "cell_type": "markdown",
   "id": "b6da304d",
   "metadata": {},
   "source": [
    "# Answer:\n",
    "\n",
    "If there is no return statement for function it will returns the none."
   ]
  },
  {
   "cell_type": "markdown",
   "id": "5fcca053",
   "metadata": {},
   "source": [
    "# 9Q. How do you make a function variable refer to the global variable?"
   ]
  },
  {
   "cell_type": "markdown",
   "id": "dc88254b",
   "metadata": {},
   "source": [
    "# Answer:\n",
    "\n",
    "A gobal statement will force a variable in a function to refer to the global variable."
   ]
  },
  {
   "cell_type": "markdown",
   "id": "45f2442b",
   "metadata": {},
   "source": [
    "# 10Q. What is the data type of None?"
   ]
  },
  {
   "cell_type": "markdown",
   "id": "1c06038c",
   "metadata": {},
   "source": [
    "# Answer:\n",
    "\n",
    "The data type of None is NoneType"
   ]
  },
  {
   "cell_type": "markdown",
   "id": "6d779e01",
   "metadata": {},
   "source": [
    "# 11Q. What does the sentence import areallyourpetsnamederic do?"
   ]
  },
  {
   "cell_type": "markdown",
   "id": "32390bc4",
   "metadata": {},
   "source": [
    "# Answer:\n",
    "\n",
    "The import Statement imports a module named areallyourpetsnamederic"
   ]
  },
  {
   "cell_type": "markdown",
   "id": "5356adce",
   "metadata": {},
   "source": [
    "# 12Q. If you had a bacon() feature in a spam module, what would you call it after importing spam?"
   ]
  },
  {
   "cell_type": "markdown",
   "id": "740b3ff9",
   "metadata": {},
   "source": [
    "# Answer:\n",
    "\n",
    "This function is called with spam.bacon()."
   ]
  },
  {
   "cell_type": "markdown",
   "id": "6f4ea107",
   "metadata": {},
   "source": [
    "# 13Q. What can you do to save a programme from crashing if it encounters an error?"
   ]
  },
  {
   "cell_type": "markdown",
   "id": "ed201249",
   "metadata": {},
   "source": [
    "# Answer:\n",
    "\n",
    "Place the Line of code that might cause an error in a try class."
   ]
  },
  {
   "cell_type": "markdown",
   "id": "8cdc817b",
   "metadata": {},
   "source": [
    "# 14Q. What is the purpose of the try clause? What is the purpose of the except clause?"
   ]
  },
  {
   "cell_type": "markdown",
   "id": "b641bde4",
   "metadata": {},
   "source": [
    "# Answer:\n",
    "\n",
    "The code that could potentially cause an error goes in the try class.The code that executes if an error happens goes in the execept class."
   ]
  }
 ],
 "metadata": {
  "kernelspec": {
   "display_name": "Python 3 (ipykernel)",
   "language": "python",
   "name": "python3"
  },
  "language_info": {
   "codemirror_mode": {
    "name": "ipython",
    "version": 3
   },
   "file_extension": ".py",
   "mimetype": "text/x-python",
   "name": "python",
   "nbconvert_exporter": "python",
   "pygments_lexer": "ipython3",
   "version": "3.9.13"
  }
 },
 "nbformat": 4,
 "nbformat_minor": 5
}
