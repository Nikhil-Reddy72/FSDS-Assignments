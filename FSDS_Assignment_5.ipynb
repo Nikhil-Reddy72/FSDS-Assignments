{
 "cells": [
  {
   "cell_type": "markdown",
   "id": "a9e6d675",
   "metadata": {},
   "source": [
    "# Q1. What does an empty dictionary's code look like?\n",
    "\n",
    "## Answer:\n",
    "\n",
    "An empty dictionary's code look like Two curly brackets {}."
   ]
  },
  {
   "cell_type": "markdown",
   "id": "e007a69d",
   "metadata": {},
   "source": [
    "# Q2. What is the value of a dictionary value with the key 'foo' and the value 42?\n",
    "\n",
    "## Answer:\n",
    "\n",
    "The value of a dictionary value with the key 'foo' and the value 42 is {'foo':42}"
   ]
  },
  {
   "cell_type": "markdown",
   "id": "560a5f2d",
   "metadata": {},
   "source": [
    "# Q3. What is the most significant distinction between a dictionary and a list?\n",
    "\n",
    "## Answer:\n",
    "\n",
    "The items stored in a dictionary are unordered, while the items in a list are ordered. "
   ]
  },
  {
   "cell_type": "markdown",
   "id": "f4329809",
   "metadata": {},
   "source": [
    "# Q4. What happens if you try to access spam['foo'] if spam is {'bar': 100}?\n",
    "\n",
    "## Answer:\n",
    "\n",
    "we get the keyError."
   ]
  },
  {
   "cell_type": "markdown",
   "id": "95f2dba8",
   "metadata": {},
   "source": [
    "# Q5. If a dictionary is stored in spam, what is the difference between the expressions 'cat' in spam and 'cat' in spam.keys()?\n",
    "\n",
    "## Answer:\n",
    "\n",
    "There is no difference.The in operator checks whether a value exists aas a key in the dictionary"
   ]
  },
  {
   "cell_type": "markdown",
   "id": "eaf0aa49",
   "metadata": {},
   "source": [
    "# Q6. If a dictionary is stored in spam, what is the difference between the expressions 'cat' in spam and 'cat' in spam.values()?\n",
    "\n",
    "## Answer:\n",
    "\n",
    "'cat' in spam checks whether there is a 'cat' key in the dictionary, while 'cat' in spam.value() check whether there is a value 'cat' for one of the keys in spam."
   ]
  },
  {
   "cell_type": "markdown",
   "id": "050307a8",
   "metadata": {},
   "source": [
    "# Q7. What is a shortcut for the following code?\n",
    "# if 'color' not in spam:\n",
    "# spam['color'] = 'black'\n",
    "\n",
    "## Answer:\n",
    "\n",
    "\n",
    "spam.setdefault('color', 'black')"
   ]
  },
  {
   "cell_type": "markdown",
   "id": "980b3152",
   "metadata": {},
   "source": [
    "# Q8. How do you \"pretty print\" dictionary values using which module and function?\n",
    "\n",
    "## Answer:\n",
    "\n",
    "pprint.pprint()"
   ]
  },
  {
   "cell_type": "code",
   "execution_count": null,
   "id": "f2e7b351",
   "metadata": {},
   "outputs": [],
   "source": []
  }
 ],
 "metadata": {
  "kernelspec": {
   "display_name": "Python 3 (ipykernel)",
   "language": "python",
   "name": "python3"
  },
  "language_info": {
   "codemirror_mode": {
    "name": "ipython",
    "version": 3
   },
   "file_extension": ".py",
   "mimetype": "text/x-python",
   "name": "python",
   "nbconvert_exporter": "python",
   "pygments_lexer": "ipython3",
   "version": "3.9.13"
  }
 },
 "nbformat": 4,
 "nbformat_minor": 5
}
