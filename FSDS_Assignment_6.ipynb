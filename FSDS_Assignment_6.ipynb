{
 "cells": [
  {
   "cell_type": "markdown",
   "id": "bc1f798e",
   "metadata": {},
   "source": [
    "# Q1. What are escape characters, and how do you use them?\n",
    "\n",
    "## Answer:\n",
    "\n",
    "Escape chracters represent characters in string values that would otherwise be difficult or impossible to  type into code"
   ]
  },
  {
   "cell_type": "markdown",
   "id": "f2c4a1ac",
   "metadata": {},
   "source": [
    "# Q2. What do the escape characters n and t stand for?\n",
    "\n",
    "## Answer:\n",
    "\n",
    "The \\n is a new line and \\t is a tab"
   ]
  },
  {
   "cell_type": "markdown",
   "id": "7137dc8b",
   "metadata": {},
   "source": [
    "# Q3. What is the way to include backslash characters in a string?\n",
    "\n",
    "## Answer:\n",
    "\n",
    "The \\\\ escape character will represent a blackslash character."
   ]
  },
  {
   "cell_type": "markdown",
   "id": "b903bb08",
   "metadata": {},
   "source": [
    "# Q4. The string \"Howl's Moving Castle\" is a correct value. Why isn't the single quote character in th word Howl's not escaped a problem?\n",
    "\n",
    "## Answer:\n",
    "\n",
    "The single quote in Howl's is fine because we have used double quotes to mark the beginning and end of the string. "
   ]
  },
  {
   "cell_type": "markdown",
   "id": "d8eab3f1",
   "metadata": {},
   "source": [
    "# Q5. How do you write a string of newlines if you don't want to use the n character?\n",
    "\n",
    "## Answer:\n",
    "\n",
    "multiline string allow you to use newlines in strings without the \\n escape charater."
   ]
  },
  {
   "cell_type": "markdown",
   "id": "391f393c",
   "metadata": {},
   "source": [
    "# Q6. What are the values of the given expressions?\n",
    "'Hello, world!'[1],\n",
    "'Hello, world!'[0:5],\n",
    "'Hello, world!'[:5],\n",
    "'Hello, world!'[3:].\n",
    "\n",
    "## Answer:\n",
    "\n",
    "The Expression evaluate to the following:\n",
    "    'e',\n",
    "    'Hello',\n",
    "    'Hello',\n",
    "    'lo world'."
   ]
  },
  {
   "cell_type": "markdown",
   "id": "7e6c4719",
   "metadata": {},
   "source": [
    "# Q7. What are the values of the following expressions?\n",
    "'Hello'.upper(),\n",
    "'Hello'.upper().isupper(),\n",
    "'Hello';.upper().lower().\n",
    "\n",
    "## Answer:\n",
    "\n",
    "The Expression evaluate to the following:\n",
    "    'HELLO',\n",
    "    TRUE,\n",
    "    'hello'."
   ]
  },
  {
   "cell_type": "markdown",
   "id": "a6122a70",
   "metadata": {},
   "source": [
    "# Q8. What are the values of the following expressions?\n",
    "'Remember, remember, the fifth of July.';.split(),\n",
    "'-'.join('There can only one.'.split()).\n",
    "\n",
    "## Answer:\n",
    "\n",
    "The Expression evaluate to the following:\n",
    "    ['Remember', 'remember', 'the', 'fifth', 'of', 'November'.]\n",
    "    'There can be only one'"
   ]
  },
  {
   "cell_type": "markdown",
   "id": "90a5b347",
   "metadata": {},
   "source": [
    "# Q9. What are the methods for right-justifying, left-justifying, and centering a string?\n",
    "\n",
    "## Answer:\n",
    "\n",
    "The rjust(), ljust(), and center() srting methods."
   ]
  },
  {
   "cell_type": "markdown",
   "id": "273f48a9",
   "metadata": {},
   "source": [
    "# Q10. What is the best way to remove whitespace characters from the start or end?\n",
    "\n",
    "## Answer:\n",
    "\n",
    "The lstrip() and rstrip() methods remove whitespaces from the left and right ends of a string."
   ]
  },
  {
   "cell_type": "code",
   "execution_count": null,
   "id": "8bb588bd",
   "metadata": {},
   "outputs": [],
   "source": []
  }
 ],
 "metadata": {
  "kernelspec": {
   "display_name": "Python 3 (ipykernel)",
   "language": "python",
   "name": "python3"
  },
  "language_info": {
   "codemirror_mode": {
    "name": "ipython",
    "version": 3
   },
   "file_extension": ".py",
   "mimetype": "text/x-python",
   "name": "python",
   "nbconvert_exporter": "python",
   "pygments_lexer": "ipython3",
   "version": "3.9.13"
  }
 },
 "nbformat": 4,
 "nbformat_minor": 5
}
