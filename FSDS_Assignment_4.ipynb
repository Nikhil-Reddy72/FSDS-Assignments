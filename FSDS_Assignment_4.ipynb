{
 "cells": [
  {
   "cell_type": "markdown",
   "id": "897cee90",
   "metadata": {},
   "source": [
    "# Q1:  What exactly is []?"
   ]
  },
  {
   "cell_type": "markdown",
   "id": "78c88681",
   "metadata": {},
   "source": [
    "## Answer:\n",
    "The square bracket \"[]\" is indicated for listing the items. The empty square bracket means it contains no items."
   ]
  },
  {
   "cell_type": "markdown",
   "id": "dff30fa1",
   "metadata": {},
   "source": [
    "# Q2: In a list of values stored in a variable called spam, how would you assign the value 'hello' as the third value? (Assume [2, 4, 6, 8, 10] are in spam.)\n",
    "\n",
    "## Answer: \n",
    "\n",
    "spam[2] = 'hello'\n",
    "because spam[2] indicates the the index position of third value."
   ]
  },
  {
   "cell_type": "markdown",
   "id": "a18d37be",
   "metadata": {},
   "source": [
    "# Let's pretend the spam includes the list ['a', 'b', 'c', 'd'] for the next three queries.\n",
    "\n",
    "# Q3. What is the value of spam[int(int('3' * 2) / 11)]?\n",
    "\n",
    "## Answer:\n",
    "\n",
    "the value of spam[int(int('3' * 2) / 11)] is [3]."
   ]
  },
  {
   "cell_type": "code",
   "execution_count": 8,
   "id": "00a84e33",
   "metadata": {},
   "outputs": [
    {
     "data": {
      "text/plain": [
       "[3]"
      ]
     },
     "execution_count": 8,
     "metadata": {},
     "output_type": "execute_result"
    }
   ],
   "source": [
    "[int(int('3' * 2) / 11)]"
   ]
  },
  {
   "cell_type": "markdown",
   "id": "2854b089",
   "metadata": {},
   "source": [
    "# Q4:What is the value of spam[-1]?\n",
    "\n",
    "## Answer:\n",
    "\n",
    "The vlaue is 'd'. because it is negative indexing so, it starts in revers order."
   ]
  },
  {
   "cell_type": "code",
   "execution_count": 9,
   "id": "3477d41f",
   "metadata": {},
   "outputs": [
    {
     "name": "stdout",
     "output_type": "stream",
     "text": [
      "d\n"
     ]
    }
   ],
   "source": [
    "spam=['a', 'b', 'c', 'd']\n",
    "print(spam[-1])"
   ]
  },
  {
   "cell_type": "markdown",
   "id": "0823b611",
   "metadata": {},
   "source": [
    "# Q5: What is the value of spam[:2]?\n",
    "\n",
    "## Answer:\n",
    "The value is ['a', 'b']. because initial index number is given none and end index number is given 2. it means it will print upto 1 index value. 2 index value is excluded."
   ]
  },
  {
   "cell_type": "code",
   "execution_count": 20,
   "id": "cb38008b",
   "metadata": {},
   "outputs": [
    {
     "name": "stdout",
     "output_type": "stream",
     "text": [
      "['a', 'b']\n"
     ]
    }
   ],
   "source": [
    "spam=['a', 'b', 'c', 'd']\n",
    "print(spam[:2])"
   ]
  },
  {
   "cell_type": "markdown",
   "id": "d0fb392d",
   "metadata": {},
   "source": [
    "# Let's pretend bacon has the list [3.14, 'cat', 11, 'cat', True] for the next three questions.\n",
    "\n",
    "# Q6. What is the value of bacon.index('cat')?\n",
    "\n",
    "## Answer:\n",
    "the value of bacon.index('cat') is 1"
   ]
  },
  {
   "cell_type": "code",
   "execution_count": 21,
   "id": "26e73ce9",
   "metadata": {},
   "outputs": [
    {
     "name": "stdout",
     "output_type": "stream",
     "text": [
      "1\n"
     ]
    }
   ],
   "source": [
    "bacon = [3.14, 'cat', 11, 'cat', True]\n",
    "print(bacon.index('cat'))"
   ]
  },
  {
   "cell_type": "markdown",
   "id": "f33add46",
   "metadata": {},
   "source": [
    "# Q7:How does bacon.append(99) change the look of the list value in bacon?\n",
    "\n",
    "## Answer:\n",
    " bacon.append(99) change the look of the list value like [3.14, 'cat', 11, 'cat', True, 99]."
   ]
  },
  {
   "cell_type": "code",
   "execution_count": 22,
   "id": "c0e0b1bd",
   "metadata": {},
   "outputs": [
    {
     "name": "stdout",
     "output_type": "stream",
     "text": [
      "[3.14, 'cat', 11, 'cat', True, 99]\n"
     ]
    }
   ],
   "source": [
    "bacon = [3.14, 'cat', 11, 'cat', True]\n",
    "bacon.append(99)\n",
    "print(bacon)"
   ]
  },
  {
   "cell_type": "markdown",
   "id": "a2bb4c8c",
   "metadata": {},
   "source": [
    "# Q8. How does bacon.remove('cat') change the look of the list in bacon?\n",
    "\n",
    "## Answer:\n",
    "\n",
    "bacon.remove('cat') change the look of the list in bacon is like [3.14, 11, 'cat', True]."
   ]
  },
  {
   "cell_type": "code",
   "execution_count": 23,
   "id": "6fcfadf3",
   "metadata": {},
   "outputs": [
    {
     "name": "stdout",
     "output_type": "stream",
     "text": [
      "[3.14, 11, 'cat', True]\n"
     ]
    }
   ],
   "source": [
    "bacon = [3.14, 'cat', 11, 'cat', True]\n",
    "bacon.remove('cat')\n",
    "print(bacon)"
   ]
  },
  {
   "cell_type": "markdown",
   "id": "0ea54e8e",
   "metadata": {},
   "source": [
    "# Q9. What are the list concatenation and list replication operators?\n",
    "\n",
    "## Answer:\n",
    "The operators for list concatenation is +, while the operator for replication is *."
   ]
  },
  {
   "cell_type": "markdown",
   "id": "1d1c0117",
   "metadata": {},
   "source": [
    "# Q10. What is difference between the list methods append() and insert()?\n",
    "\n",
    "## Answer:\n",
    "\n",
    "The append() method will add items at end of the list only. But where as insert() method will add items anywhere in the list."
   ]
  },
  {
   "cell_type": "markdown",
   "id": "4fa75218",
   "metadata": {},
   "source": [
    "# Q11. What are the two methods for removing items from a list?\n",
    "\n",
    "## Answer:\n",
    "The del() and remove() are the two methods for removing items from the list."
   ]
  },
  {
   "cell_type": "markdown",
   "id": "f11faab6",
   "metadata": {},
   "source": [
    "# Q12. Describe how list values and string values are identical.\n",
    "\n",
    "## Answer:\n",
    "\n",
    "Both lists and strings can be passed to len(), have indexes and slices, be used in for loops, be concatenated or replicated, and be used with in and not in operators."
   ]
  },
  {
   "cell_type": "markdown",
   "id": "cddd631d",
   "metadata": {},
   "source": [
    "# Q13. What's the difference between tuples and lists?\n",
    "\n",
    "## Answer:\n",
    "\n",
    "lists are mutable , they can have values added, removed or changed. Tuples are written using parentheses,(and),while lists are use the square brackets [and]. The Tuples are immutable, thy cannot be changed at all. "
   ]
  },
  {
   "cell_type": "markdown",
   "id": "6ede619b",
   "metadata": {},
   "source": [
    "# Q14. How do you type a tuple value that only contains the integer 42?\n",
    "\n",
    "## Answer:\n",
    "\n",
    "(42,)(the trailing comma is mandatory). without comma we will get int data type not tuple data type."
   ]
  },
  {
   "cell_type": "code",
   "execution_count": 24,
   "id": "5de7bd0e",
   "metadata": {},
   "outputs": [
    {
     "name": "stdout",
     "output_type": "stream",
     "text": [
      "<class 'tuple'>\n",
      "<class 'int'>\n"
     ]
    }
   ],
   "source": [
    "TUPLE1 = (42,)\n",
    "print(type(TUPLE1))\n",
    "\n",
    "TUPLE1 = (42)\n",
    "print(type(TUPLE1))"
   ]
  },
  {
   "cell_type": "markdown",
   "id": "1170606b",
   "metadata": {},
   "source": [
    "# Q15. How do you get a list value's tuple form? How do you get a tuple value's list form?\n",
    "\n",
    "## Answer:\n",
    "\n",
    "the tuple() and list() functions, respectively."
   ]
  },
  {
   "cell_type": "markdown",
   "id": "c22eb94d",
   "metadata": {},
   "source": [
    "# Q16. Variables that \"contain\" list values are not necessarily lists themselves. Instead, what do they contain?\n",
    "\n",
    "## Answer:\n",
    "\n",
    "They contain references to list values"
   ]
  },
  {
   "cell_type": "markdown",
   "id": "b98e0623",
   "metadata": {},
   "source": [
    "# Q17. How do you distinguish between copy.copy() and copy.deepcopy()?\n",
    "\n",
    "## Answer:\n",
    "\n",
    "#### The copy.copy() function will do a shallow copy of a list, While the copy.deepcopy() function will do a deep copy of a list. That is ,only copy.deepcopy() will duplicate any lists inside the list."
   ]
  },
  {
   "cell_type": "code",
   "execution_count": null,
   "id": "fbbbbc47",
   "metadata": {},
   "outputs": [],
   "source": []
  }
 ],
 "metadata": {
  "kernelspec": {
   "display_name": "Python 3 (ipykernel)",
   "language": "python",
   "name": "python3"
  },
  "language_info": {
   "codemirror_mode": {
    "name": "ipython",
    "version": 3
   },
   "file_extension": ".py",
   "mimetype": "text/x-python",
   "name": "python",
   "nbconvert_exporter": "python",
   "pygments_lexer": "ipython3",
   "version": "3.9.13"
  }
 },
 "nbformat": 4,
 "nbformat_minor": 5
}
