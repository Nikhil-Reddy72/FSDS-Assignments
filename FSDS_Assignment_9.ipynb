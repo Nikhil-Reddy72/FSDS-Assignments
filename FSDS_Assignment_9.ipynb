{
 "cells": [
  {
   "cell_type": "markdown",
   "id": "a851058a",
   "metadata": {},
   "source": [
    "# Q1. To what does a relative path refer?\n",
    "\n",
    "## Answer:\n",
    "\n",
    "Relative paths are relative to the current working directory."
   ]
  },
  {
   "cell_type": "markdown",
   "id": "fa1e6e15",
   "metadata": {},
   "source": [
    "# Q2. What does an absolute path start with your operating system?\n",
    "\n",
    "## Answer:\n",
    "\n",
    "Absoult paths start with the root floder, such as / or c:\\."
   ]
  },
  {
   "cell_type": "markdown",
   "id": "76fadb80",
   "metadata": {},
   "source": [
    "# Q3. What do the functions os.getcwd() and os.chdir() do?\n",
    "\n",
    "## Answer:\n",
    "\n",
    "The os.getcwd() function returns the current working directory. The os.chdir() function changes the current working directory."
   ]
  },
  {
   "cell_type": "markdown",
   "id": "cd672a9a",
   "metadata": {},
   "source": [
    "# Q4. What are the . and .. folders?\n",
    "\n",
    "## Answer:\n",
    "\n",
    "The . floder is the current floder, and .. is the parent floder."
   ]
  },
  {
   "cell_type": "markdown",
   "id": "aae778d6",
   "metadata": {},
   "source": [
    "# Q5. In C:\\bacon\\eggs\\spam.txt, which part is the dir name, and which part is the base name?\n",
    "\n",
    "\n",
    "## Answer:\n",
    "\n",
    "c:|bacon|eggs is the dir name, while spam.txt is the base name."
   ]
  },
  {
   "cell_type": "markdown",
   "id": "ce8007b6",
   "metadata": {},
   "source": [
    "# Q6. What are the three “mode” arguments that can be passed to the open() function?\n",
    "\n",
    "\n",
    "## Answer:\n",
    "\n",
    "The string 'r' for read mode, 'w' for write mode and 'a' for append mode."
   ]
  },
  {
   "cell_type": "markdown",
   "id": "666d637f",
   "metadata": {},
   "source": [
    "# Q7. What happens if an existing file is opened in write mode?\n",
    "\n",
    "\n",
    "## Answer:\n",
    "\n",
    "An existing file is opened in write mode is erased and completely overwritten."
   ]
  },
  {
   "cell_type": "markdown",
   "id": "995743f2",
   "metadata": {},
   "source": [
    "# Q8. How do you tell the difference between read() and readlines()?\n",
    "\n",
    "## Answer:\n",
    "\n",
    "The read() method returns the files entire contents as a single string value. The readlines() method returns a list of string, where each string is a line from the file's content."
   ]
  },
  {
   "cell_type": "markdown",
   "id": "56f59ce2",
   "metadata": {},
   "source": [
    "# Q9. What data structure does a shelf value resemble?\n",
    "\n",
    "## Answer:\n",
    "\n",
    "\n",
    "A self value resemble a dictionary value; it has keys and vlaues, along with keys() and values() methods that work simmilarly to the dictionary methods of the same names."
   ]
  },
  {
   "cell_type": "code",
   "execution_count": null,
   "id": "7c50d5a9",
   "metadata": {},
   "outputs": [],
   "source": []
  }
 ],
 "metadata": {
  "kernelspec": {
   "display_name": "Python 3 (ipykernel)",
   "language": "python",
   "name": "python3"
  },
  "language_info": {
   "codemirror_mode": {
    "name": "ipython",
    "version": 3
   },
   "file_extension": ".py",
   "mimetype": "text/x-python",
   "name": "python",
   "nbconvert_exporter": "python",
   "pygments_lexer": "ipython3",
   "version": "3.9.13"
  }
 },
 "nbformat": 4,
 "nbformat_minor": 5
}
