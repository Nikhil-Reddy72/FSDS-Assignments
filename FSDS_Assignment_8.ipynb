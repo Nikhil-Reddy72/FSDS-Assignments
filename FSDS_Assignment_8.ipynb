{
 "cells": [
  {
   "cell_type": "markdown",
   "id": "530cf587",
   "metadata": {},
   "source": [
    "# Q1. Is the Python Standard Library included with PyInputPlus?\n",
    "\n",
    "## Answer:\n",
    "\n",
    "PyInputPlus is not a part standard libraray in python, we have to install by using pip."
   ]
  },
  {
   "cell_type": "markdown",
   "id": "6a66688b",
   "metadata": {},
   "source": [
    "# Q2. Why is PyInputPlus commonly imported with import pyinputplus as pypi?\n",
    "\n",
    "## Answer:\n",
    "\n",
    "\n",
    "we can import the module with import pyinputplus as pyip so that we can enter a shorter name when calling the module's functions"
   ]
  },
  {
   "cell_type": "markdown",
   "id": "e214570b",
   "metadata": {},
   "source": [
    "# Q3. How do you distinguish between inputInt() and inputFloat()?\n",
    "\n",
    "\n",
    "## Answer:\n",
    "\n",
    "The inputInt() function returns an integer, while the inputFloat() function returns a float value."
   ]
  },
  {
   "cell_type": "markdown",
   "id": "8c88902d",
   "metadata": {},
   "source": [
    "# Q4. Using PyInputPlus, how do you ensure that the user enters a whole number between 0 and 99?\n",
    "\n",
    "## Answer: \n",
    "\n",
    "In the inputint function we can set the min = 0 and max =99 to ensure user enters number between 0 and 99\n"
   ]
  },
  {
   "cell_type": "markdown",
   "id": "edd8378c",
   "metadata": {},
   "source": [
    "# Q5. What is transferred to the keyword arguments allowRegexes and blockRegexes?\n",
    "\n",
    "##Answer:\n",
    "\n",
    "We can also use regular expressions to specify whether an input is allowed or not. The allowRegexes and blockRegexes keyword arguments take a list of regular expression strings to determine what the PyInputPlus function will accept or reject as valid input."
   ]
  },
  {
   "cell_type": "markdown",
   "id": "cf29600b",
   "metadata": {},
   "source": [
    "# Q6. If a blank input is entered three times, what does inputStr(limit=3) do?\n",
    "\n",
    "## Answer:\n",
    "\n",
    "It will throw RetryLimitException exception."
   ]
  },
  {
   "cell_type": "markdown",
   "id": "eab18e1e",
   "metadata": {},
   "source": [
    "# Q7. If blank input is entered three times, what does inputStr(limit=3, default='hello') do?\n",
    "\n",
    "\n",
    "## Answer:\n",
    "\n",
    "\n",
    "When you use limit keyword arguments and also pass a default keyword argument, the function returns the default value instead of raising an exception"
   ]
  }
 ],
 "metadata": {
  "kernelspec": {
   "display_name": "Python 3 (ipykernel)",
   "language": "python",
   "name": "python3"
  },
  "language_info": {
   "codemirror_mode": {
    "name": "ipython",
    "version": 3
   },
   "file_extension": ".py",
   "mimetype": "text/x-python",
   "name": "python",
   "nbconvert_exporter": "python",
   "pygments_lexer": "ipython3",
   "version": "3.9.13"
  }
 },
 "nbformat": 4,
 "nbformat_minor": 5
}
