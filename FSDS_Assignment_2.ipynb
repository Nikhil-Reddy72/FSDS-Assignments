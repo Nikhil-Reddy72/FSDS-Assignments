{
  "nbformat": 4,
  "nbformat_minor": 0,
  "metadata": {
    "colab": {
      "provenance": []
    },
    "kernelspec": {
      "name": "python3",
      "display_name": "Python 3"
    },
    "language_info": {
      "name": "python"
    }
  },
  "cells": [
    {
      "cell_type": "markdown",
      "source": [
        "#1Q.\n",
        "\n",
        "What are the two values of the Boolean data type? How do you write them?"
      ],
      "metadata": {
        "id": "YoD40tARpp2G"
      }
    },
    {
      "cell_type": "markdown",
      "source": [
        "#ANSWER:\n",
        "\n",
        "The two values of the Boolean data types are True and False.\n",
        "we write them as capital 'T' in True and rest of words in small leters and simillarly False also writtten in same way."
      ],
      "metadata": {
        "id": "OxZHfr1Rpxqa"
      }
    },
    {
      "cell_type": "code",
      "execution_count": 1,
      "metadata": {
        "id": "Mw82_R7gpkL8"
      },
      "outputs": [],
      "source": [
        "x = True \n",
        "y = False"
      ]
    },
    {
      "cell_type": "code",
      "source": [
        "print(type(x))\n",
        "print(type(y))"
      ],
      "metadata": {
        "colab": {
          "base_uri": "https://localhost:8080/"
        },
        "id": "u_11ADnDq8HW",
        "outputId": "5de1402c-c072-46a4-da29-40a28d74025f"
      },
      "execution_count": 5,
      "outputs": [
        {
          "output_type": "stream",
          "name": "stdout",
          "text": [
            "<class 'bool'>\n",
            "<class 'bool'>\n"
          ]
        }
      ]
    },
    {
      "cell_type": "markdown",
      "source": [
        "#2Q. \n",
        "\n",
        "What are the three different types of Boolean operators?"
      ],
      "metadata": {
        "id": "ZlhxD3YFrWFj"
      }
    },
    {
      "cell_type": "markdown",
      "source": [
        "#ANSWER:\n",
        "\n",
        "The Three differnt types of boolean operators are AND, OR, and NOT."
      ],
      "metadata": {
        "id": "mieFXEI5rk40"
      }
    },
    {
      "cell_type": "code",
      "source": [
        "a = 20\n",
        "b = 30\n",
        "\n",
        "if a == 20 and b == 40:  # In this case both should be true then only if statement will print.\n",
        "  print(f'a = {a}, b = {b}') \n",
        "else:\n",
        "  print('a and b are not equal')"
      ],
      "metadata": {
        "colab": {
          "base_uri": "https://localhost:8080/"
        },
        "id": "SQHraxJ7rFGM",
        "outputId": "b92f487f-f195-433b-b21f-3339e806631b"
      },
      "execution_count": 12,
      "outputs": [
        {
          "output_type": "stream",
          "name": "stdout",
          "text": [
            "a and b are not equal\n"
          ]
        }
      ]
    },
    {
      "cell_type": "code",
      "source": [
        "a = 20\n",
        "b = 30\n",
        "\n",
        "if a == 20 or b == 40: # In this case if one condistion is True it will print if statement.\n",
        "  print(f'a = {a}, b = {b}')\n",
        "else:\n",
        "  print('a and b are not equal')"
      ],
      "metadata": {
        "colab": {
          "base_uri": "https://localhost:8080/"
        },
        "id": "Kdb8p8GvtEwh",
        "outputId": "ccd3d21a-11c6-4a30-e30f-e3646c362bbc"
      },
      "execution_count": 13,
      "outputs": [
        {
          "output_type": "stream",
          "name": "stdout",
          "text": [
            "a = 20, b = 30\n"
          ]
        }
      ]
    },
    {
      "cell_type": "code",
      "source": [
        "a = 20\n",
        "b = 30\n",
        "\n",
        "if a == 20 is not b == 40:  # is not will check the both id's and statement of a given or assinged values or statement.\n",
        "  print(f'a = {a}, b = {b}')\n",
        "else:\n",
        "  print('a and b are not equal')"
      ],
      "metadata": {
        "colab": {
          "base_uri": "https://localhost:8080/"
        },
        "id": "Qdy0iCVGt6ey",
        "outputId": "7c6fa770-839b-48ed-ce99-54738b1120a1"
      },
      "execution_count": 15,
      "outputs": [
        {
          "output_type": "stream",
          "name": "stdout",
          "text": [
            "a and b are not equal\n"
          ]
        }
      ]
    },
    {
      "cell_type": "markdown",
      "source": [
        "#3Q. \n",
        "\n",
        "Make a list of each Boolean operator&#39;s truth tables (i.e. every possible combination of Boolean values for the operator and what it evaluate )."
      ],
      "metadata": {
        "id": "vDl1SsP5wVqs"
      }
    },
    {
      "cell_type": "markdown",
      "source": [
        "#ANSWER:\n",
        "\n",
        "True and True is equal to True\n",
        "\n",
        "True and Flase is equal to False\n",
        "\n",
        "False and True is equal to False\n",
        "\n",
        "False and False is equal to False\n",
        "\n",
        "---\n",
        "\n",
        "True or False is equal to True\n",
        "\n",
        "True or True is equal to True\n",
        "\n",
        "False or True is equal to True\n",
        "\n",
        "False or False is equal to False\n",
        "\n",
        "---\n",
        "\n",
        "not True is equal to False\n",
        "\n",
        "not False is equal to True\n",
        "\n",
        "---\n",
        "\n"
      ],
      "metadata": {
        "id": "gfeGHMVrwoOn"
      }
    },
    {
      "cell_type": "markdown",
      "source": [
        "#4Q. \n",
        "\n",
        "What are the values of the following expressions?\n",
        "\n",
        "(5 &gt; 4) and (3 == 5)\n",
        "\n",
        "not (5 &gt; 4)\n",
        "\n",
        "(5 &gt; 4) or (3 == 5)\n",
        "\n",
        "not ((5 &gt; 4) or (3 == 5))\n",
        "\n",
        "(True and True) and (True == False)\n",
        "\n",
        "(not False) or (not True)"
      ],
      "metadata": {
        "id": "nRwYhH6Rykd9"
      }
    },
    {
      "cell_type": "markdown",
      "source": [
        "#ANSWER:"
      ],
      "metadata": {
        "id": "Sd-Ug_k9zes7"
      }
    },
    {
      "cell_type": "code",
      "source": [
        "(5 > 4) and (3 == 5)"
      ],
      "metadata": {
        "colab": {
          "base_uri": "https://localhost:8080/"
        },
        "id": "QpsZPtbiyiSm",
        "outputId": "2dcbef1a-7979-4969-fa00-e1b7d7894479"
      },
      "execution_count": 23,
      "outputs": [
        {
          "output_type": "execute_result",
          "data": {
            "text/plain": [
              "False"
            ]
          },
          "metadata": {},
          "execution_count": 23
        }
      ]
    },
    {
      "cell_type": "code",
      "source": [
        "not(5>4)"
      ],
      "metadata": {
        "colab": {
          "base_uri": "https://localhost:8080/"
        },
        "id": "iVrUw0vlzAJN",
        "outputId": "c84a084a-720b-4739-a8e1-3a3fc62a5b8c"
      },
      "execution_count": 18,
      "outputs": [
        {
          "output_type": "execute_result",
          "data": {
            "text/plain": [
              "False"
            ]
          },
          "metadata": {},
          "execution_count": 18
        }
      ]
    },
    {
      "cell_type": "code",
      "source": [
        "(5 > 4) or (3 == 5)"
      ],
      "metadata": {
        "colab": {
          "base_uri": "https://localhost:8080/"
        },
        "id": "3v9g5E34zHwP",
        "outputId": "a5f10e59-4063-4247-a33f-1a1644542694"
      },
      "execution_count": 19,
      "outputs": [
        {
          "output_type": "execute_result",
          "data": {
            "text/plain": [
              "True"
            ]
          },
          "metadata": {},
          "execution_count": 19
        }
      ]
    },
    {
      "cell_type": "code",
      "source": [
        "not ((5 > 4) or (3 == 5))"
      ],
      "metadata": {
        "colab": {
          "base_uri": "https://localhost:8080/"
        },
        "id": "s450EmD2zMcJ",
        "outputId": "fae7c95b-27a0-468f-cb0e-5f7d61c39d8a"
      },
      "execution_count": 20,
      "outputs": [
        {
          "output_type": "execute_result",
          "data": {
            "text/plain": [
              "False"
            ]
          },
          "metadata": {},
          "execution_count": 20
        }
      ]
    },
    {
      "cell_type": "code",
      "source": [
        "(True and True) and (True == False)"
      ],
      "metadata": {
        "colab": {
          "base_uri": "https://localhost:8080/"
        },
        "id": "ek_Dip_OzQGF",
        "outputId": "848fab40-88bf-4ef2-f110-e3bb78092255"
      },
      "execution_count": 21,
      "outputs": [
        {
          "output_type": "execute_result",
          "data": {
            "text/plain": [
              "False"
            ]
          },
          "metadata": {},
          "execution_count": 21
        }
      ]
    },
    {
      "cell_type": "code",
      "source": [
        "(not False) or (not True)"
      ],
      "metadata": {
        "colab": {
          "base_uri": "https://localhost:8080/"
        },
        "id": "KsbkDNqQzVIa",
        "outputId": "ae3ae98d-fdd3-45bd-f9ec-9be4075b5473"
      },
      "execution_count": 22,
      "outputs": [
        {
          "output_type": "execute_result",
          "data": {
            "text/plain": [
              "True"
            ]
          },
          "metadata": {},
          "execution_count": 22
        }
      ]
    },
    {
      "cell_type": "markdown",
      "source": [
        "#5Q. \n",
        "What are the six comparison operators?"
      ],
      "metadata": {
        "id": "gCL0MYT8ziNX"
      }
    },
    {
      "cell_type": "markdown",
      "source": [
        "#ANSWER:\n",
        "\n",
        "The six comparion operators are \n",
        "\n",
        "1.==, 2.!=, 3.<, 4.>, 5.<= and 6.>="
      ],
      "metadata": {
        "id": "bRjb4SvWzpRQ"
      }
    },
    {
      "cell_type": "markdown",
      "source": [
        "#6Q. \n",
        "How do you tell the difference between the equal to and assignment operators?Describe a condition and when you would use one."
      ],
      "metadata": {
        "id": "CkSKjqRH0W0s"
      }
    },
    {
      "cell_type": "markdown",
      "source": [
        "#ANSWER:\n",
        "\n",
        "The difference between equal to and assignment operators:\n",
        "\n",
        "The equal to(==) operator will check both statements or value are equal or not then it give result in True or False (boolean type).\n",
        "\n",
        "equal(=) is an assingment operator it assign value to variable"
      ],
      "metadata": {
        "id": "Hwq4y1cJ0sqW"
      }
    },
    {
      "cell_type": "code",
      "source": [
        "a = 10   # equal to operator\n",
        "b = 20\n",
        "\n",
        "print(a==b)"
      ],
      "metadata": {
        "colab": {
          "base_uri": "https://localhost:8080/"
        },
        "id": "JR5bfVtuzX3L",
        "outputId": "2c1554b9-2030-45b2-999f-0fbbcced1648"
      },
      "execution_count": 26,
      "outputs": [
        {
          "output_type": "stream",
          "name": "stdout",
          "text": [
            "False\n"
          ]
        }
      ]
    },
    {
      "cell_type": "code",
      "source": [
        "a = 10 # assingment equal operator\n",
        "a"
      ],
      "metadata": {
        "colab": {
          "base_uri": "https://localhost:8080/"
        },
        "id": "JTwRJy2a2b6U",
        "outputId": "05e1c3a7-cd8b-4567-939b-6ebca07f4cb0"
      },
      "execution_count": 25,
      "outputs": [
        {
          "output_type": "execute_result",
          "data": {
            "text/plain": [
              "10"
            ]
          },
          "metadata": {},
          "execution_count": 25
        }
      ]
    },
    {
      "cell_type": "markdown",
      "source": [
        "#7Q. \n",
        "Identify the three blocks in this code:\n",
        "\n",
        "spam = 0\n",
        "\n",
        "if spam == 10:\n",
        "\n",
        "print(&#39;eggs&#39;)\n",
        "\n",
        "if spam &gt; 5:\n",
        "\n",
        "print(&#39;bacon&#39;)\n",
        "\n",
        "else:\n",
        "\n",
        "print(&#39;ham&#39;)\n",
        "\n",
        "print(&#39;spam&#39;)\n",
        "\n",
        "print(&#39;spam&#39;)"
      ],
      "metadata": {
        "id": "Y6MuVWqZ3Byg"
      }
    },
    {
      "cell_type": "markdown",
      "source": [
        "#ANSWER:"
      ],
      "metadata": {
        "id": "CroSpR5d42X2"
      }
    },
    {
      "cell_type": "code",
      "source": [
        "spam = 0\n",
        "if spam == 10:\n",
        "  print('eggs')\n",
        "elif spam > 5:\n",
        "  print('bacon')\n",
        "else:\n",
        "  print('ham')\n",
        "  print('spam')\n",
        "  print('spam')"
      ],
      "metadata": {
        "colab": {
          "base_uri": "https://localhost:8080/"
        },
        "id": "AEDSGk5S2mrG",
        "outputId": "e2de5953-f05f-4341-b9b4-10fd17fc253b"
      },
      "execution_count": 28,
      "outputs": [
        {
          "output_type": "stream",
          "name": "stdout",
          "text": [
            "ham\n",
            "spam\n",
            "spam\n"
          ]
        }
      ]
    },
    {
      "cell_type": "markdown",
      "source": [
        "#8Q. \n",
        "Write code that prints Hello if 1 is stored in spam, prints Howdy if 2 is stored in spam, and prints Greetings! if anything else is stored in spam."
      ],
      "metadata": {
        "id": "u5INv44W5GsR"
      }
    },
    {
      "cell_type": "markdown",
      "source": [
        "#ANSWER"
      ],
      "metadata": {
        "id": "AI0a09ut5WQe"
      }
    },
    {
      "cell_type": "code",
      "source": [
        "spam = 1\n",
        "if spam == 1:\n",
        "  print('Hello')\n",
        "elif spam == 2:\n",
        "  print('howdy')\n",
        "else:\n",
        "  print('Greetings!')"
      ],
      "metadata": {
        "colab": {
          "base_uri": "https://localhost:8080/"
        },
        "id": "_Ordh_XK5Znw",
        "outputId": "a2b08434-3c35-4141-ebf4-a765e550bbd2"
      },
      "execution_count": 29,
      "outputs": [
        {
          "output_type": "stream",
          "name": "stdout",
          "text": [
            "Hello\n"
          ]
        }
      ]
    },
    {
      "cell_type": "markdown",
      "source": [
        "#9Q.\n",
        "If your programme is stuck in an endless loop, what keys you’ll press?"
      ],
      "metadata": {
        "id": "bvrcCao46AKT"
      }
    },
    {
      "cell_type": "markdown",
      "source": [
        "#ANSWER:\n",
        "\n",
        "When a programme got stucked in an endless loop, then we should press \"CTRL+C\""
      ],
      "metadata": {
        "id": "zCRoj38K6KHS"
      }
    },
    {
      "cell_type": "markdown",
      "source": [
        "#10Q. \n",
        "How can you tell the difference between break and continue?"
      ],
      "metadata": {
        "id": "Ous6Ghr36su-"
      }
    },
    {
      "cell_type": "markdown",
      "source": [
        "#ANSWER:\n",
        "\n",
        "The main difference between both the statements is that when break keyword comes, it terminates the execution of the current loop and passes the control over the next loop or main body, whereas when continue keyword is, it skips the current iteration and executes the very next iteration in the loop."
      ],
      "metadata": {
        "id": "REiuIiFr60xx"
      }
    },
    {
      "cell_type": "markdown",
      "source": [
        "#11Q. \n",
        "In a for loop, what is the difference between range(10), range(0, 10), and range(0, 10, 1)?"
      ],
      "metadata": {
        "id": "xgmZuhkw7YtW"
      }
    },
    {
      "cell_type": "markdown",
      "source": [
        "#ANSWER:\n",
        "All they do are same thing. The range(10) will print 10 values they are from 0 to 9. The range(0,10) it also print 10 values from 0 to 9, But here we decide that the range should start from 0. The rane(0, 10, 1) this also print 10 values form 0 to 9, But while printing it will tell the loop to increase by 1 on each iteration."
      ],
      "metadata": {
        "id": "VSQmqCch7f17"
      }
    },
    {
      "cell_type": "code",
      "source": [
        "a = range(10) \n",
        "for i in a: \n",
        "    print (i)"
      ],
      "metadata": {
        "colab": {
          "base_uri": "https://localhost:8080/"
        },
        "id": "HGETXbER5-aJ",
        "outputId": "618a1927-36b4-4eb9-9f49-16ca262418e3"
      },
      "execution_count": 35,
      "outputs": [
        {
          "output_type": "stream",
          "name": "stdout",
          "text": [
            "0\n",
            "1\n",
            "2\n",
            "3\n",
            "4\n",
            "5\n",
            "6\n",
            "7\n",
            "8\n",
            "9\n"
          ]
        }
      ]
    },
    {
      "cell_type": "code",
      "source": [
        "a = range(0, 10) \n",
        "for i in a: \n",
        "    print (i)"
      ],
      "metadata": {
        "colab": {
          "base_uri": "https://localhost:8080/"
        },
        "id": "sUJeS6cU9bIK",
        "outputId": "3c809f37-f5de-4575-b125-a092521df53b"
      },
      "execution_count": 36,
      "outputs": [
        {
          "output_type": "stream",
          "name": "stdout",
          "text": [
            "0\n",
            "1\n",
            "2\n",
            "3\n",
            "4\n",
            "5\n",
            "6\n",
            "7\n",
            "8\n",
            "9\n"
          ]
        }
      ]
    },
    {
      "cell_type": "code",
      "source": [
        "a = range(0, 10, 1) \n",
        "for i in a: \n",
        "    print (i)"
      ],
      "metadata": {
        "colab": {
          "base_uri": "https://localhost:8080/"
        },
        "id": "F975ngaE9nYj",
        "outputId": "fbe345cd-5ab4-435c-e2eb-b728251e371a"
      },
      "execution_count": 38,
      "outputs": [
        {
          "output_type": "stream",
          "name": "stdout",
          "text": [
            "0\n",
            "1\n",
            "2\n",
            "3\n",
            "4\n",
            "5\n",
            "6\n",
            "7\n",
            "8\n",
            "9\n"
          ]
        }
      ]
    },
    {
      "cell_type": "markdown",
      "source": [
        "#12Q. \n",
        "Write a short program that prints the numbers 1 to 10 using a for loop. Then write an equivalent program that prints the numbers 1 to 10 using a while loop."
      ],
      "metadata": {
        "id": "FRCGmBd5IbvL"
      }
    },
    {
      "cell_type": "markdown",
      "source": [
        "#ANSWER:\n"
      ],
      "metadata": {
        "id": "w19KdvHJI3mv"
      }
    },
    {
      "cell_type": "code",
      "source": [
        "for i in range(1,10):\n",
        " print(i)"
      ],
      "metadata": {
        "colab": {
          "base_uri": "https://localhost:8080/"
        },
        "id": "sZfK0tXNISfb",
        "outputId": "f1805ef3-f62a-4108-b175-8ff75185ca83"
      },
      "execution_count": 39,
      "outputs": [
        {
          "output_type": "stream",
          "name": "stdout",
          "text": [
            "1\n",
            "2\n",
            "3\n",
            "4\n",
            "5\n",
            "6\n",
            "7\n",
            "8\n",
            "9\n"
          ]
        }
      ]
    },
    {
      "cell_type": "code",
      "source": [
        "i = 1\n",
        "while i <= 10:\n",
        "  print(i)\n",
        "  i += 1"
      ],
      "metadata": {
        "colab": {
          "base_uri": "https://localhost:8080/"
        },
        "id": "O2Cr9qVXJ15S",
        "outputId": "db52f6af-8fa2-4359-9e10-8a5df47ddf75"
      },
      "execution_count": 45,
      "outputs": [
        {
          "output_type": "stream",
          "name": "stdout",
          "text": [
            "1\n",
            "2\n",
            "3\n",
            "4\n",
            "5\n",
            "6\n",
            "7\n",
            "8\n",
            "9\n",
            "10\n"
          ]
        }
      ]
    },
    {
      "cell_type": "markdown",
      "source": [
        "#13Q. \n",
        "If you had a function named bacon() inside a module named spam, how would you call it after importing spam?"
      ],
      "metadata": {
        "id": "s2msZsmaKE3a"
      }
    },
    {
      "cell_type": "markdown",
      "source": [
        "#ANSWER:"
      ],
      "metadata": {
        "id": "djSL8FJ5KQmE"
      }
    },
    {
      "cell_type": "markdown",
      "source": [
        "If I have a function named bacon() inside a module named spam, I will call function with spam.bacon()"
      ],
      "metadata": {
        "id": "GqpytshVMU43"
      }
    },
    {
      "cell_type": "code",
      "source": [],
      "metadata": {
        "id": "lQhC4hhkJ-zN"
      },
      "execution_count": null,
      "outputs": []
    }
  ]
}